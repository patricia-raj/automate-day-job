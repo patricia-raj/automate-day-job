{
 "cells": [
  {
   "cell_type": "code",
   "execution_count": 29,
   "id": "12b261d7-ffc1-4e1f-8f31-9365e257db16",
   "metadata": {},
   "outputs": [
    {
     "name": "stdout",
     "output_type": "stream",
     "text": [
      "Financial Analysis\n",
      "----------------------------\n",
      "Total Months: 86\n",
      "Total : $38382578\n",
      "Average Change : $446309.05\n",
      "Greatest Increase in Profits: Feb-2012  $1170593\n",
      "Greatest Decrease in Profits: Sep-2013 $-1196225\n"
     ]
    }
   ],
   "source": [
    "from pathlib import Path\n",
    "import csv\n",
    "\n",
    "# Set the budget data path using Pathlib\n",
    "file = Path('resources/budget_data.csv')\n",
    "\n",
    "# Initialize Analysis variables\n",
    "total_months=0\n",
    "total = 0\n",
    "average = 0\n",
    "great_increase_profits = 0\n",
    "great_decrease_profits = 0\n",
    "great_increase = []\n",
    "great_decrease = []\n",
    "\n",
    "\n",
    "# Open the budget data in \"read\" mode ('r') and\n",
    "# store the contents in the necessary variable 'file'\n",
    "with open(file, 'r') as file:\n",
    "    csvreader = csv.reader(file, delimiter=\",\")\n",
    "    csv_header = next(csvreader)\n",
    "    for row in csvreader:\n",
    "        date = row[0]\n",
    "        pnl = row[1]\n",
    "        \n",
    "        #calculate max profit and max loss.\n",
    "        if great_decrease_profits == 0:\n",
    "            great_decrease_profits = int(row[1])\n",
    "            great_decrease = row\n",
    "        elif int(row[1]) < great_decrease_profits:\n",
    "            great_decrease_profits = int(row[1])\n",
    "            great_decrease = row\n",
    "        elif int(row[1]) > great_increase_profits:\n",
    "            great_increase_profits = int(row[1])\n",
    "            great_increase = row\n",
    "        total_months+=1\n",
    "        total= total + int(row[1])\n",
    "        \n",
    "# Calculate the average change        \n",
    "average = round((total / total_months),2)\n",
    "\n",
    "# Print out net p&l, average and total  and day_count\n",
    "print (\"Financial Analysis\")\n",
    "print (\"--------------------------------------------------------\")\n",
    "print (f\"Total Months: {total_months}\")    \n",
    "print (f\"Total : ${total}\")\n",
    "print (f\"Average Change : ${average}\")\n",
    "print (f\"Greatest Increase in Profits: {great_increase[0]}  ${great_increase[1]}\")\n",
    "print (f\"Greatest Decrease in Profits: {great_decrease[0]} ${great_decrease[1]}\")\n",
    "\n",
    "\n",
    "# Set Financial Analysis file name\n",
    "output_path = 'resources/financial_analysis.txt'\n",
    "\n",
    "# Open the Financial Analysis as a file object\n",
    "with open(output_path, 'w') as file:\n",
    "    # Write Fin Analysis information to the output file, convert to string\n",
    "    file.write(f\"Financial Analysis \\n\")\n",
    "    file.write(f\"-------------------------------------------------------- \\n\")\n",
    "    file.write(f\"Total Months: {total_months} \\n\")\n",
    "    file.write(f\"Total : ${total} \\n\")\n",
    "    file.write(f\"Average Change : ${average} \\n\")\n",
    "    file.write(f\"Greatest Increase in Profits: {great_increase[0]}  ${great_increase[1]} \\n\")\n",
    "    file.write(f\"Greatest Decrease in Profits: {great_decrease[0]} ${great_decrease[1]} \\n\")\n"
   ]
  },
  {
   "cell_type": "code",
   "execution_count": null,
   "id": "999c6ec9-f4e8-4cf2-afde-c177900461da",
   "metadata": {},
   "outputs": [],
   "source": []
  },
  {
   "cell_type": "code",
   "execution_count": null,
   "id": "b9098720-8d3e-44cd-b46b-c5a15e249fe7",
   "metadata": {},
   "outputs": [],
   "source": []
  }
 ],
 "metadata": {
  "kernelspec": {
   "display_name": "Python 3 (ipykernel)",
   "language": "python",
   "name": "python3"
  },
  "language_info": {
   "codemirror_mode": {
    "name": "ipython",
    "version": 3
   },
   "file_extension": ".py",
   "mimetype": "text/x-python",
   "name": "python",
   "nbconvert_exporter": "python",
   "pygments_lexer": "ipython3",
   "version": "3.7.11"
  }
 },
 "nbformat": 4,
 "nbformat_minor": 5
}
