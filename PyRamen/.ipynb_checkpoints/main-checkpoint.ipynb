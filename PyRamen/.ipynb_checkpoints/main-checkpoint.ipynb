{
 "cells": [
  {
   "cell_type": "code",
   "execution_count": 13,
   "id": "d39307bf-a07c-40b6-95b9-3d67a237723d",
   "metadata": {},
   "outputs": [
    {
     "name": "stderr",
     "output_type": "stream",
     "text": [
      "IOPub data rate exceeded.\n",
      "The Jupyter server will temporarily stop sending output\n",
      "to the client in order to avoid crashing it.\n",
      "To change this limit, set the config variable\n",
      "`--ServerApp.iopub_data_rate_limit`.\n",
      "\n",
      "Current values:\n",
      "ServerApp.iopub_data_rate_limit=1000000.0 (bytes/sec)\n",
      "ServerApp.rate_limit_window=3.0 (secs)\n",
      "\n"
     ]
    }
   ],
   "source": [
    "import csv\n",
    "from pathlib import Path\n",
    "\n",
    "menu_filepath = Path('resources/menu_data.csv')\n",
    "sales_filepath = Path('resources/sales_data.csv')\n",
    "\n",
    "\n",
    "menu = []\n",
    "sales = []\n",
    "report = {}\n",
    "\n",
    "\n",
    "with open(menu_filepath, 'r') as menu_details:\n",
    "    menu_cost_list = csv.reader(menu_details, delimiter=\",\")\n",
    "    csv_header = next(menu_cost_list)\n",
    "    for menu_list in menu_cost_list:\n",
    "        menu.append(menu_list)\n",
    "        \n",
    "with open(sales_filepath, 'r') as sales_data:\n",
    "    sales_list = csv.reader(sales_data, delimiter=\",\")\n",
    "    csv_header = next(sales_list)\n",
    "    for sale in sales_list:\n",
    "        sales.append(sale)\n",
    "        \n",
    "print(sales)"
   ]
  },
  {
   "cell_type": "code",
   "execution_count": null,
   "id": "a930a4ed-a50f-4b4d-bfca-7ac8a650937f",
   "metadata": {},
   "outputs": [],
   "source": []
  }
 ],
 "metadata": {
  "kernelspec": {
   "display_name": "Python 3 (ipykernel)",
   "language": "python",
   "name": "python3"
  },
  "language_info": {
   "codemirror_mode": {
    "name": "ipython",
    "version": 3
   },
   "file_extension": ".py",
   "mimetype": "text/x-python",
   "name": "python",
   "nbconvert_exporter": "python",
   "pygments_lexer": "ipython3",
   "version": "3.7.11"
  }
 },
 "nbformat": 4,
 "nbformat_minor": 5
}
